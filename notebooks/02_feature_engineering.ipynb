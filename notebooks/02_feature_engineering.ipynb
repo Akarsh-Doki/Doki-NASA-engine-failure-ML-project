{
  "nbformat": 4,
  "nbformat_minor": 0,
  "metadata": {
    "colab": {
      "provenance": []
    },
    "kernelspec": {
      "name": "python3",
      "display_name": "Python 3"
    },
    "language_info": {
      "name": "python"
    }
  },
  "cells": [
    {
      "cell_type": "markdown",
      "source": [
        "# **Feature Engineering**\n",
        "\n",
        "This notebook applies feature engineering techniques such as rolling window statistics, normalization, and dimensionality reduction (PCA). These transformations help capture degradation patterns while reducing noise in sensor data."
      ],
      "metadata": {
        "id": "FpcaA6yxN8a0"
      }
    },
    {
      "cell_type": "code",
      "source": [
        "%run ./01_eda.ipynb # Run all the code in the previous notebook"
      ],
      "metadata": {
        "colab": {
          "base_uri": "https://localhost:8080/",
          "height": 454
        },
        "id": "0UkWVK9eN1zW",
        "outputId": "b1666d70-e263-456a-eefc-581fbc9dcaac"
      },
      "execution_count": null,
      "outputs": [
        {
          "output_type": "error",
          "ename": "Exception",
          "evalue": "File `'./01_eda.ipynb.py'` not found.",
          "traceback": [
            "\u001b[0;31m---------------------------------------------------------------------------\u001b[0m",
            "\u001b[0;31mOSError\u001b[0m                                   Traceback (most recent call last)",
            "\u001b[0;32m/usr/local/lib/python3.12/dist-packages/IPython/core/magics/execution.py\u001b[0m in \u001b[0;36mrun\u001b[0;34m(self, parameter_s, runner, file_finder)\u001b[0m\n\u001b[1;32m    713\u001b[0m             \u001b[0mfpath\u001b[0m \u001b[0;34m=\u001b[0m \u001b[0marg_lst\u001b[0m\u001b[0;34m[\u001b[0m\u001b[0;36m0\u001b[0m\u001b[0;34m]\u001b[0m\u001b[0;34m\u001b[0m\u001b[0;34m\u001b[0m\u001b[0m\n\u001b[0;32m--> 714\u001b[0;31m             \u001b[0mfilename\u001b[0m \u001b[0;34m=\u001b[0m \u001b[0mfile_finder\u001b[0m\u001b[0;34m(\u001b[0m\u001b[0mfpath\u001b[0m\u001b[0;34m)\u001b[0m\u001b[0;34m\u001b[0m\u001b[0;34m\u001b[0m\u001b[0m\n\u001b[0m\u001b[1;32m    715\u001b[0m         \u001b[0;32mexcept\u001b[0m \u001b[0mIndexError\u001b[0m\u001b[0;34m:\u001b[0m\u001b[0;34m\u001b[0m\u001b[0;34m\u001b[0m\u001b[0m\n",
            "\u001b[0;32m/usr/local/lib/python3.12/dist-packages/IPython/utils/path.py\u001b[0m in \u001b[0;36mget_py_filename\u001b[0;34m(name, force_win32)\u001b[0m\n\u001b[1;32m    108\u001b[0m     \u001b[0;32melse\u001b[0m\u001b[0;34m:\u001b[0m\u001b[0;34m\u001b[0m\u001b[0;34m\u001b[0m\u001b[0m\n\u001b[0;32m--> 109\u001b[0;31m         \u001b[0;32mraise\u001b[0m \u001b[0mIOError\u001b[0m\u001b[0;34m(\u001b[0m\u001b[0;34m'File `%r` not found.'\u001b[0m \u001b[0;34m%\u001b[0m \u001b[0mname\u001b[0m\u001b[0;34m)\u001b[0m\u001b[0;34m\u001b[0m\u001b[0;34m\u001b[0m\u001b[0m\n\u001b[0m\u001b[1;32m    110\u001b[0m \u001b[0;34m\u001b[0m\u001b[0m\n",
            "\u001b[0;31mOSError\u001b[0m: File `'./01_eda.ipynb.py'` not found.",
            "\nDuring handling of the above exception, another exception occurred:\n",
            "\u001b[0;31mException\u001b[0m                                 Traceback (most recent call last)",
            "\u001b[0;32m/tmp/ipython-input-4232415598.py\u001b[0m in \u001b[0;36m<cell line: 0>\u001b[0;34m()\u001b[0m\n\u001b[0;32m----> 1\u001b[0;31m \u001b[0mget_ipython\u001b[0m\u001b[0;34m(\u001b[0m\u001b[0;34m)\u001b[0m\u001b[0;34m.\u001b[0m\u001b[0mrun_line_magic\u001b[0m\u001b[0;34m(\u001b[0m\u001b[0;34m'run'\u001b[0m\u001b[0;34m,\u001b[0m \u001b[0;34m'./01_eda.ipynb # Run all the code in the previous notebook'\u001b[0m\u001b[0;34m)\u001b[0m\u001b[0;34m\u001b[0m\u001b[0;34m\u001b[0m\u001b[0m\n\u001b[0m",
            "\u001b[0;32m/usr/local/lib/python3.12/dist-packages/IPython/core/interactiveshell.py\u001b[0m in \u001b[0;36mrun_line_magic\u001b[0;34m(self, magic_name, line, _stack_depth)\u001b[0m\n\u001b[1;32m   2416\u001b[0m                 \u001b[0mkwargs\u001b[0m\u001b[0;34m[\u001b[0m\u001b[0;34m'local_ns'\u001b[0m\u001b[0;34m]\u001b[0m \u001b[0;34m=\u001b[0m \u001b[0mself\u001b[0m\u001b[0;34m.\u001b[0m\u001b[0mget_local_scope\u001b[0m\u001b[0;34m(\u001b[0m\u001b[0mstack_depth\u001b[0m\u001b[0;34m)\u001b[0m\u001b[0;34m\u001b[0m\u001b[0;34m\u001b[0m\u001b[0m\n\u001b[1;32m   2417\u001b[0m             \u001b[0;32mwith\u001b[0m \u001b[0mself\u001b[0m\u001b[0;34m.\u001b[0m\u001b[0mbuiltin_trap\u001b[0m\u001b[0;34m:\u001b[0m\u001b[0;34m\u001b[0m\u001b[0;34m\u001b[0m\u001b[0m\n\u001b[0;32m-> 2418\u001b[0;31m                 \u001b[0mresult\u001b[0m \u001b[0;34m=\u001b[0m \u001b[0mfn\u001b[0m\u001b[0;34m(\u001b[0m\u001b[0;34m*\u001b[0m\u001b[0margs\u001b[0m\u001b[0;34m,\u001b[0m \u001b[0;34m**\u001b[0m\u001b[0mkwargs\u001b[0m\u001b[0;34m)\u001b[0m\u001b[0;34m\u001b[0m\u001b[0;34m\u001b[0m\u001b[0m\n\u001b[0m\u001b[1;32m   2419\u001b[0m             \u001b[0;32mreturn\u001b[0m \u001b[0mresult\u001b[0m\u001b[0;34m\u001b[0m\u001b[0;34m\u001b[0m\u001b[0m\n\u001b[1;32m   2420\u001b[0m \u001b[0;34m\u001b[0m\u001b[0m\n",
            "\u001b[0;32m<decorator-gen-52>\u001b[0m in \u001b[0;36mrun\u001b[0;34m(self, parameter_s, runner, file_finder)\u001b[0m\n",
            "\u001b[0;32m/usr/local/lib/python3.12/dist-packages/IPython/core/magic.py\u001b[0m in \u001b[0;36m<lambda>\u001b[0;34m(f, *a, **k)\u001b[0m\n\u001b[1;32m    185\u001b[0m     \u001b[0;31m# but it's overkill for just that one bit of state.\u001b[0m\u001b[0;34m\u001b[0m\u001b[0;34m\u001b[0m\u001b[0m\n\u001b[1;32m    186\u001b[0m     \u001b[0;32mdef\u001b[0m \u001b[0mmagic_deco\u001b[0m\u001b[0;34m(\u001b[0m\u001b[0marg\u001b[0m\u001b[0;34m)\u001b[0m\u001b[0;34m:\u001b[0m\u001b[0;34m\u001b[0m\u001b[0;34m\u001b[0m\u001b[0m\n\u001b[0;32m--> 187\u001b[0;31m         \u001b[0mcall\u001b[0m \u001b[0;34m=\u001b[0m \u001b[0;32mlambda\u001b[0m \u001b[0mf\u001b[0m\u001b[0;34m,\u001b[0m \u001b[0;34m*\u001b[0m\u001b[0ma\u001b[0m\u001b[0;34m,\u001b[0m \u001b[0;34m**\u001b[0m\u001b[0mk\u001b[0m\u001b[0;34m:\u001b[0m \u001b[0mf\u001b[0m\u001b[0;34m(\u001b[0m\u001b[0;34m*\u001b[0m\u001b[0ma\u001b[0m\u001b[0;34m,\u001b[0m \u001b[0;34m**\u001b[0m\u001b[0mk\u001b[0m\u001b[0;34m)\u001b[0m\u001b[0;34m\u001b[0m\u001b[0;34m\u001b[0m\u001b[0m\n\u001b[0m\u001b[1;32m    188\u001b[0m \u001b[0;34m\u001b[0m\u001b[0m\n\u001b[1;32m    189\u001b[0m         \u001b[0;32mif\u001b[0m \u001b[0mcallable\u001b[0m\u001b[0;34m(\u001b[0m\u001b[0marg\u001b[0m\u001b[0;34m)\u001b[0m\u001b[0;34m:\u001b[0m\u001b[0;34m\u001b[0m\u001b[0;34m\u001b[0m\u001b[0m\n",
            "\u001b[0;32m/usr/local/lib/python3.12/dist-packages/IPython/core/magics/execution.py\u001b[0m in \u001b[0;36mrun\u001b[0;34m(self, parameter_s, runner, file_finder)\u001b[0m\n\u001b[1;32m    723\u001b[0m             \u001b[0;32mif\u001b[0m \u001b[0mos\u001b[0m\u001b[0;34m.\u001b[0m\u001b[0mname\u001b[0m \u001b[0;34m==\u001b[0m \u001b[0;34m'nt'\u001b[0m \u001b[0;32mand\u001b[0m \u001b[0mre\u001b[0m\u001b[0;34m.\u001b[0m\u001b[0mmatch\u001b[0m\u001b[0;34m(\u001b[0m\u001b[0;34mr\"^'.*'$\"\u001b[0m\u001b[0;34m,\u001b[0m\u001b[0mfpath\u001b[0m\u001b[0;34m)\u001b[0m\u001b[0;34m:\u001b[0m\u001b[0;34m\u001b[0m\u001b[0;34m\u001b[0m\u001b[0m\n\u001b[1;32m    724\u001b[0m                 \u001b[0mwarn\u001b[0m\u001b[0;34m(\u001b[0m\u001b[0;34m'For Windows, use double quotes to wrap a filename: %run \"mypath\\\\myfile.py\"'\u001b[0m\u001b[0;34m)\u001b[0m\u001b[0;34m\u001b[0m\u001b[0;34m\u001b[0m\u001b[0m\n\u001b[0;32m--> 725\u001b[0;31m             \u001b[0;32mraise\u001b[0m \u001b[0mException\u001b[0m\u001b[0;34m(\u001b[0m\u001b[0mmsg\u001b[0m\u001b[0;34m)\u001b[0m\u001b[0;34m\u001b[0m\u001b[0;34m\u001b[0m\u001b[0m\n\u001b[0m\u001b[1;32m    726\u001b[0m         \u001b[0;32mexcept\u001b[0m \u001b[0mTypeError\u001b[0m\u001b[0;34m:\u001b[0m\u001b[0;34m\u001b[0m\u001b[0;34m\u001b[0m\u001b[0m\n\u001b[1;32m    727\u001b[0m             \u001b[0;32mif\u001b[0m \u001b[0mfpath\u001b[0m \u001b[0;32min\u001b[0m \u001b[0msys\u001b[0m\u001b[0;34m.\u001b[0m\u001b[0mmeta_path\u001b[0m\u001b[0;34m:\u001b[0m\u001b[0;34m\u001b[0m\u001b[0;34m\u001b[0m\u001b[0m\n",
            "\u001b[0;31mException\u001b[0m: File `'./01_eda.ipynb.py'` not found."
          ]
        }
      ]
    },
    {
      "cell_type": "markdown",
      "source": [
        "**Rolling Feature Engineering**\n",
        "\n",
        "We create new features that summarize sensor and operational setting behavior over time.\n",
        "\n",
        "Instead of using raw values at each cycle, rolling statistics capture *trends* (slopes, averages, variability).\n",
        "\n",
        "This helps the model detect gradual degradation patterns that are predictive of Remaining Useful Life (RUL)."
      ],
      "metadata": {
        "id": "DXwa68SlOHnO"
      }
    },
    {
      "cell_type": "code",
      "source": [
        "# Make a copy of the dataset so we can safely add new rolling features\n",
        "rolling_data = data.copy()\n",
        "\n",
        "# 1. Rolling Standard Deviation (window=5 cycles)\n",
        "#    - Std shows variability over the window, which can indicate instability or early fault signals.rolling_data[op_cols + sensor_cols] = rolling_data.groupby(\"unit_number\")[op_cols + sensor_cols].rolling(window=5, min_periods=1).mean().reset_index(level=0, drop=True)\n",
        "rolling_data[[f'{col}_std' for col in op_cols + sensor_cols]] = (\n",
        "    rolling_data.groupby(\"unit_number\")[op_cols + sensor_cols]\n",
        "    .rolling(window=5, min_periods=1).std()\n",
        "    .reset_index(level=0, drop=True)\n",
        ")\n",
        "\n",
        "# 2. Rolling Slope (window=5 cycles)\n",
        "#    - Measures the *rate of change* of each sensor signal.\n",
        "#    - Positive slope = increasing trend (e.g., rising temperature or vibration).\n",
        "#    - Negative slope = decreasing trend (e.g., dropping pressure).\n",
        "#    - This can reveal whether an engine is degrading quickly or stabilizing.\n",
        "for col in op_cols + sensor_cols:\n",
        "    rolling_data[f'{col}_slope'] = rolling_data.groupby(\"unit_number\")[col].diff(periods=5).rolling(window=5, min_periods=1).mean().reset_index(level=0, drop=True)\n",
        "\n",
        "# 3. Rolling Variance (window=20 cycles)\n",
        "#    - Captures longer-term fluctuations in sensor signals.\n",
        "#    - High variance can signal abnormal oscillations or instability in the engine\n",
        "for col in op_cols + sensor_cols:\n",
        "    rolling_data[f'{col}_var'] = rolling_data.groupby(\"unit_number\")[col].rolling(window=20, min_periods=1).var().reset_index(level=0, drop=True)\n",
        "\n",
        "# 4. Normalized Cycle Index\n",
        "#    - Each engine runs for a different number of cycles before failure.\n",
        "#    - Normalized cycle = (current cycle / engine's max cycle).\n",
        "#    - This gives the model a relative measure of how far along the engine is in its lifecycle.\n",
        "max_cycles = data.groupby(\"unit_number\")[\"time_in_cycles\"].max().reset_index()\n",
        "max_cycles.columns = [\"unit_number\", \"max_cycles\"]\n",
        "\n",
        "rolling_data = rolling_data.merge(max_cycles, on=\"unit_number\", how=\"left\")\n",
        "rolling_data[\"normalized_cycle\"] = rolling_data[\"time_in_cycles\"] / rolling_data[\"max_cycles\"]\n",
        "\n",
        "# Drop helper column since it's no longer needed\n",
        "rolling_data = rolling_data.drop(columns=[\"max_cycles\"])\n",
        "\n",
        "rolling_data"
      ],
      "metadata": {
        "colab": {
          "base_uri": "https://localhost:8080/",
          "height": 233
        },
        "id": "igKKOO1DOLxW",
        "outputId": "fc2169f6-3b0b-47eb-c349-bd56d751d023"
      },
      "execution_count": null,
      "outputs": [
        {
          "output_type": "error",
          "ename": "NameError",
          "evalue": "name 'data' is not defined",
          "traceback": [
            "\u001b[0;31m---------------------------------------------------------------------------\u001b[0m",
            "\u001b[0;31mNameError\u001b[0m                                 Traceback (most recent call last)",
            "\u001b[0;32m/tmp/ipython-input-1923937782.py\u001b[0m in \u001b[0;36m<cell line: 0>\u001b[0;34m()\u001b[0m\n\u001b[1;32m      1\u001b[0m \u001b[0;31m# Make a copy of the dataset so we can safely add new rolling features\u001b[0m\u001b[0;34m\u001b[0m\u001b[0;34m\u001b[0m\u001b[0m\n\u001b[0;32m----> 2\u001b[0;31m \u001b[0mrolling_data\u001b[0m \u001b[0;34m=\u001b[0m \u001b[0mdata\u001b[0m\u001b[0;34m.\u001b[0m\u001b[0mcopy\u001b[0m\u001b[0;34m(\u001b[0m\u001b[0;34m)\u001b[0m\u001b[0;34m\u001b[0m\u001b[0;34m\u001b[0m\u001b[0m\n\u001b[0m\u001b[1;32m      3\u001b[0m \u001b[0;34m\u001b[0m\u001b[0m\n\u001b[1;32m      4\u001b[0m \u001b[0;31m# 1. Rolling Standard Deviation (window=5 cycles)\u001b[0m\u001b[0;34m\u001b[0m\u001b[0;34m\u001b[0m\u001b[0m\n\u001b[1;32m      5\u001b[0m \u001b[0;31m#    - Std shows variability over the window, which can indicate instability or early fault signals.rolling_data[op_cols + sensor_cols] = rolling_data.groupby(\"unit_number\")[op_cols + sensor_cols].rolling(window=5, min_periods=1).mean().reset_index(level=0, drop=True)\u001b[0m\u001b[0;34m\u001b[0m\u001b[0;34m\u001b[0m\u001b[0m\n",
            "\u001b[0;31mNameError\u001b[0m: name 'data' is not defined"
          ]
        }
      ]
    },
    {
      "cell_type": "markdown",
      "source": [
        "**PCA (Principal Component Analysis)**\n",
        "\n",
        "PCA is a dimensionality reduction technique.\n",
        "\n",
        "It transforms correlated features (like sensors and operational settings).\n",
        "\n",
        "\n",
        "***Why use PCA here?***\n",
        "\n",
        "\n",
        "*  Many sensors are strongly correlated (e.g temperature/pressure pairs).\n",
        "*  High correlation adds redundancy and noise, making it harder for the models to generalize.\n",
        "*  PCA reduces thi redundancy by keeping the main variance directions.\n",
        "*  We keep only the top components that explain most of the variance, which reduces dimensionality while preserving useful signal.\n",
        "\n",
        "***Steps:***\n",
        "\n",
        "\n",
        "1.   Standardize features (zero mean, unit variance), which ensures all sensors are on the same scale.\n",
        "2.   Apply PCA to extract 10 principal components.\n",
        "3.   Store components as new features (PC1, PC2, ... ,PC10) for use in training instead of (or alongside) original sensors\n",
        "\n",
        "This helps improve training efficiency and may reduce overfitting"
      ],
      "metadata": {
        "id": "XAiBFyKgOd6A"
      }
    },
    {
      "cell_type": "code",
      "source": [
        "# Step 1: Standardize the operational + sensor data\n",
        "standardized_data = StandardScaler().fit_transform(rolling_data[op_cols+sensor_cols])\n",
        "\n",
        "# Print first 20 rows to verify standardized values\n",
        "print(pd.DataFrame(standardized_data, columns=op_cols + sensor_cols).head(20))\n",
        "\n",
        "# Step 2: Run PCA to extract top 10 components\n",
        "pca = PCA(n_components=10)\n",
        "X_pca = pca.fit_transform(standardized_data)\n",
        "\n",
        "# Print summary: number of components and their explained variance ratio\n",
        "# Explained variance ratio = % of dataset variance captured by each component\n",
        "print(f\"Number of components selected: {pca.n_components_}\")\n",
        "print(pca.explained_variance_ratio_)\n",
        "\n",
        "# Step 3: Create a DataFrame for the PCA features (PC1–PC10)\n",
        "X_pca_df = pd.DataFrame(X_pca, columns=[f\"PC{i+1}\" for i in range(X_pca.shape[1])])\n",
        "\n",
        "# Print first 20 rows of transformed data\n",
        "print(\"\\n\\n\")\n",
        "print(X_pca_df.head(20))"
      ],
      "metadata": {
        "id": "QguCElCgOfnG"
      },
      "execution_count": null,
      "outputs": []
    },
    {
      "cell_type": "markdown",
      "source": [
        "**Final Dataset (combined with the PCA data)**"
      ],
      "metadata": {
        "id": "f3hb7qQvOlz9"
      }
    },
    {
      "cell_type": "code",
      "source": [
        "final_data = rolling_data.reset_index(drop=True).join(X_pca_df) # Join the pca data with rolling data\n",
        "\n",
        "display(final_data.head(30))"
      ],
      "metadata": {
        "id": "OBPQgIBZOmcF"
      },
      "execution_count": null,
      "outputs": []
    }
  ]
}